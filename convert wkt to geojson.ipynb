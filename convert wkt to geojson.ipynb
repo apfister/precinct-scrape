{
 "cells": [
  {
   "cell_type": "code",
   "execution_count": 3,
   "metadata": {},
   "outputs": [],
   "source": [
    "import shapely.wkt  \n",
    "import geojson\n",
    "import json"
   ]
  },
  {
   "cell_type": "code",
   "execution_count": 5,
   "metadata": {},
   "outputs": [],
   "source": [
    "geometry_json = json.load(open('geometry.json'))\n",
    "dataset_json = json.load(open('dataset.json'))\n",
    "features = []\n",
    "for item in dataset_json['areas']:\n",
    "    item_id = str(item['UAID'])\n",
    "    \n",
    "    properties = {}\n",
    "    properties['NAME'] = item['NAME']\n",
    "    properties['UAID'] = item['UAID']\n",
    "    wktext = geometry_json[item_id]['Geom']\n",
    "    \n",
    "    g1 = shapely.wkt.loads(wktext)\n",
    "    geojson_feature = geojson.Feature(geometry=g1, properties=properties)\n",
    "    \n",
    "    features.append(geojson_feature)\n",
    "    \n",
    "# print (features)\n",
    "\n",
    "with open('precincts.geojson', 'w') as outfile:\n",
    "    json.dump(features, outfile)"
   ]
  },
  {
   "cell_type": "code",
   "execution_count": null,
   "metadata": {
    "collapsed": true
   },
   "outputs": [],
   "source": []
  }
 ],
 "metadata": {
  "kernelspec": {
   "display_name": "Python 3",
   "language": "python",
   "name": "python3"
  },
  "language_info": {
   "codemirror_mode": {
    "name": "ipython",
    "version": 3
   },
   "file_extension": ".py",
   "mimetype": "text/x-python",
   "name": "python",
   "nbconvert_exporter": "python",
   "pygments_lexer": "ipython3",
   "version": "3.6.1"
  }
 },
 "nbformat": 4,
 "nbformat_minor": 2
}
